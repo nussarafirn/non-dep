{
 "cells": [
  {
   "cell_type": "code",
   "execution_count": null,
   "metadata": {},
   "outputs": [],
   "source": [
    "import pandas as pd"
   ]
  },
  {
   "cell_type": "code",
   "execution_count": null,
   "metadata": {},
   "outputs": [],
   "source": [
    "df = pd.read_csv('./merged_2025_01.csv')"
   ]
  },
  {
   "cell_type": "code",
   "execution_count": null,
   "metadata": {},
   "outputs": [],
   "source": [
    "df['DOF'] = df['DOF'].str.replace(' ', '-')\n",
    "df['DOF'] = df['DOF'].str.replace('-202', '-2')\n",
    "# df"
   ]
  },
  {
   "cell_type": "code",
   "execution_count": null,
   "metadata": {},
   "outputs": [],
   "source": [
    "df['Month'] = df['Month'].str.replace(' ', '-')\n",
    "df['Month'] = df['Month'].str.replace('-202', '-2')\n",
    "# df"
   ]
  },
  {
   "cell_type": "markdown",
   "metadata": {},
   "source": [
    "## By Month"
   ]
  },
  {
   "cell_type": "code",
   "execution_count": null,
   "metadata": {},
   "outputs": [],
   "source": [
    "countMisDep = df.groupby(['ADEP State', 'Month', 'ADEP'])['DEP'].apply(lambda x: x[x == 'MIS'].count()).reset_index().rename(columns={'DEP': 'MisDep'})\n",
    "countTotalDep = df.groupby(['ADEP State', 'Month', 'ADEP'])['DEP'].count().reset_index().rename(columns={'DEP': 'TotalDep'})"
   ]
  },
  {
   "cell_type": "code",
   "execution_count": null,
   "metadata": {},
   "outputs": [],
   "source": [
    "percentMisDep = pd.merge(countMisDep, countTotalDep, on=['ADEP State', 'Month', 'ADEP'])\n",
    "# percentMisDep['Percentage'] = percentMisDep['MisDep'] / percentMisDep['TotalDep']\n",
    "percentMisDep.to_json('PercentMisDep.json', orient='records')"
   ]
  },
  {
   "cell_type": "markdown",
   "metadata": {},
   "source": [
    "## Time"
   ]
  },
  {
   "cell_type": "code",
   "execution_count": null,
   "metadata": {},
   "outputs": [],
   "source": [
    "df['HourEOBT'] = df['EOBT'].str.split(':').str[0].apply(lambda x: f'{int(x):02d}')"
   ]
  },
  {
   "cell_type": "code",
   "execution_count": null,
   "metadata": {},
   "outputs": [],
   "source": [
    "# This will keep rows with TotalFlights = 0\n",
    "# flightType = df.groupby(['ADEP State', 'Month', 'HourEOBT', 'FlightType'])['DOF'].apply(lambda x: x[x == 'MIS'].count()).reset_index().rename(columns={'DOF': 'TotalFlights'})\n",
    "\n",
    "# This will exclude rows with TotalFlights = 0\n",
    "flightType = df[df['DEP'] == 'MIS'].groupby(['ADEP State', 'Month', 'HourEOBT', 'FlightType'])['DOF'].count().reset_index().rename(columns={'DOF': 'TotalFlights'})\n",
    "flightType.to_json('FlightType.json', orient='records')"
   ]
  },
  {
   "cell_type": "code",
   "execution_count": null,
   "metadata": {},
   "outputs": [],
   "source": []
  }
 ],
 "metadata": {
  "kernelspec": {
   "display_name": "Python 3 (ipykernel)",
   "language": "python",
   "name": "python3"
  },
  "language_info": {
   "codemirror_mode": {
    "name": "ipython",
    "version": 3
   },
   "file_extension": ".py",
   "mimetype": "text/x-python",
   "name": "python",
   "nbconvert_exporter": "python",
   "pygments_lexer": "ipython3",
   "version": "3.9.6"
  }
 },
 "nbformat": 4,
 "nbformat_minor": 4
}
