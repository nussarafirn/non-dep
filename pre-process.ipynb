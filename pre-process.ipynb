{
 "cells": [
  {
   "cell_type": "code",
   "execution_count": 3,
   "metadata": {},
   "outputs": [],
   "source": [
    "import pandas as pd"
   ]
  },
  {
   "cell_type": "code",
   "execution_count": 4,
   "metadata": {},
   "outputs": [
    {
     "name": "stderr",
     "output_type": "stream",
     "text": [
      "/var/folders/c6/c5gvyq8112b9zpm3w55kf7hm0000gn/T/ipykernel_65921/1570380239.py:1: DtypeWarning: Columns (8) have mixed types. Specify dtype option on import or set low_memory=False.\n",
      "  df = pd.read_csv('../cleaned/merged_2025_02.csv')\n"
     ]
    }
   ],
   "source": [
    "df = pd.read_csv('../cleaned/merged_2025_02.csv')"
   ]
  },
  {
   "cell_type": "code",
   "execution_count": 5,
   "metadata": {},
   "outputs": [],
   "source": [
    "df['DOF'] = df['DOF'].str.replace(' ', '-')\n",
    "df['DOF'] = df['DOF'].str.replace('-202', '-2')\n",
    "# df"
   ]
  },
  {
   "cell_type": "code",
   "execution_count": 6,
   "metadata": {},
   "outputs": [],
   "source": [
    "df['Month'] = df['Month'].str.replace(' ', '-')\n",
    "df['Month'] = df['Month'].str.replace('-202', '-2')\n",
    "# df"
   ]
  },
  {
   "cell_type": "markdown",
   "metadata": {},
   "source": [
    "## By Month"
   ]
  },
  {
   "cell_type": "code",
   "execution_count": 7,
   "metadata": {},
   "outputs": [],
   "source": [
    "countMisDep = df[df['DEP'] == 'MIS'].groupby(['ADEP State', 'Month', 'ADEP'])['DEP'].count().reset_index().rename(columns={'DEP': 'MisDep'})\n",
    "countTotalDep = df.groupby(['ADEP State', 'Month', 'ADEP'])['DEP'].count().reset_index().rename(columns={'DEP': 'TotalDep'})"
   ]
  },
  {
   "cell_type": "code",
   "execution_count": 8,
   "metadata": {},
   "outputs": [],
   "source": [
    "percentMisDep = pd.merge(countMisDep, countTotalDep, on=['ADEP State', 'Month', 'ADEP'])\n",
    "# percentMisDep['Percentage'] = percentMisDep['MisDep'] / percentMisDep['TotalDep']\n",
    "percentMisDep.to_json('PercentMisDep.json', orient='records')"
   ]
  },
  {
   "cell_type": "markdown",
   "metadata": {},
   "source": [
    "## Time"
   ]
  },
  {
   "cell_type": "code",
   "execution_count": 9,
   "metadata": {},
   "outputs": [],
   "source": [
    "df['HourEOBT'] = df['EOBT'].str.split(':').str[0].apply(lambda x: f'{int(x):02d}')"
   ]
  },
  {
   "cell_type": "code",
   "execution_count": 10,
   "metadata": {},
   "outputs": [],
   "source": [
    "flightType = df[df['DEP'] == 'MIS'].groupby(['ADEP State', 'Month', 'HourEOBT', 'FlightType'])['DOF'].count().reset_index().rename(columns={'DOF': 'TotalFlights'})\n",
    "flightType.to_json('FlightType.json', orient='records')\n",
    "# flightType"
   ]
  }
 ],
 "metadata": {
  "kernelspec": {
   "display_name": ".venv",
   "language": "python",
   "name": "python3"
  },
  "language_info": {
   "codemirror_mode": {
    "name": "ipython",
    "version": 3
   },
   "file_extension": ".py",
   "mimetype": "text/x-python",
   "name": "python",
   "nbconvert_exporter": "python",
   "pygments_lexer": "ipython3",
   "version": "3.12.6"
  }
 },
 "nbformat": 4,
 "nbformat_minor": 2
}
